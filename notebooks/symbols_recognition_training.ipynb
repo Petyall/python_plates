{
  "cells": [
    {
      "cell_type": "code",
      "execution_count": null,
      "metadata": {
        "colab": {
          "base_uri": "https://localhost:8080/"
        },
        "collapsed": true,
        "id": "4ZevSQU_Z9dq",
        "outputId": "09bf646d-f5f0-41fd-93f5-dec77cb5a9ad"
      },
      "outputs": [],
      "source": [
        "!pip install ultralytics\n",
        "!pip install roboflow"
      ]
    },
    {
      "cell_type": "code",
      "execution_count": null,
      "metadata": {
        "colab": {
          "base_uri": "https://localhost:8080/"
        },
        "id": "4tYfrWDDdGZ6",
        "outputId": "ace4f98b-3043-4e91-9455-f75a8bf8c977"
      },
      "outputs": [],
      "source": [
        "from roboflow import Roboflow\n",
        "\n",
        "rf = Roboflow(api_key=\"\")\n",
        "project = rf.workspace(\"kolzek\").project(\"russian-car-plate-letters\")\n",
        "version = project.version(2)\n",
        "dataset = version.download(\"yolov8\")\n",
        "\n",
        "# https://universe.roboflow.com/kolzek/russian-car-plate-letters/dataset/2#"
      ]
    },
    {
      "cell_type": "code",
      "execution_count": null,
      "metadata": {
        "colab": {
          "base_uri": "https://localhost:8080/"
        },
        "id": "MAl-oeMY_-VJ",
        "outputId": "e7a79a6e-a406-4c27-d97a-74e3a0d7d1e9"
      },
      "outputs": [],
      "source": [
        "from ultralytics import YOLO\n",
        "\n",
        "model = YOLO('yolov8n.pt')\n",
        "\n",
        "model.train(data='/content/Russian-car-plate-letters-2/data.yaml', epochs=25, imgsz=640, batch=16)"
      ]
    }
  ],
  "metadata": {
    "accelerator": "GPU",
    "colab": {
      "gpuType": "T4",
      "provenance": []
    },
    "kernelspec": {
      "display_name": "Python 3",
      "name": "python3"
    },
    "language_info": {
      "name": "python"
    }
  },
  "nbformat": 4,
  "nbformat_minor": 0
}
