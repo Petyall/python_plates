{
  "cells": [
    {
      "cell_type": "code",
      "execution_count": null,
      "metadata": {
        "colab": {
          "base_uri": "https://localhost:8080/"
        },
        "id": "y3LHeYxI9bux",
        "outputId": "6f8e2fd8-d9e9-4c2e-daad-7d259a13eb40"
      },
      "outputs": [],
      "source": [
        "!pip install ultralytics\n",
        "!pip install roboflow"
      ]
    },
    {
      "cell_type": "code",
      "execution_count": null,
      "metadata": {
        "colab": {
          "base_uri": "https://localhost:8080/"
        },
        "id": "KF8O3vsX_cEL",
        "outputId": "157085d0-dea9-43e8-950c-dd5ce6a21453"
      },
      "outputs": [],
      "source": [
        "from roboflow import Roboflow\n",
        "\n",
        "rf = Roboflow(api_key=\"\")\n",
        "project = rf.workspace(\"ru-anrp\").project(\"russian-license-plates-detector\")\n",
        "version = project.version(3)\n",
        "dataset = version.download(\"yolov8\")"
      ]
    },
    {
      "cell_type": "code",
      "execution_count": null,
      "metadata": {
        "id": "HcUVxqUmCZHW"
      },
      "outputs": [],
      "source": [
        "# Перезапись файла data.yaml с правильными путями\n",
        "with open('/content/Russian-License-Plates-Detector-3/data.yaml', 'w') as f:\n",
        "    f.write(\"\"\"train: /content/Russian-License-Plates-Detector-3/train/images\n",
        "val: /content/Russian-License-Plates-Detector-3/valid/images\n",
        "test: /content/Russian-License-Plates-Detector-3/test/images\n",
        "\n",
        "nc: 1\n",
        "names: ['license-plate']\n",
        "\"\"\")"
      ]
    },
    {
      "cell_type": "code",
      "execution_count": null,
      "metadata": {
        "colab": {
          "base_uri": "https://localhost:8080/"
        },
        "id": "MAl-oeMY_-VJ",
        "outputId": "7ddad8eb-fecf-4d17-a6e7-8960c95c9efd"
      },
      "outputs": [],
      "source": [
        "from ultralytics import YOLO\n",
        "\n",
        "# Загрузка модели\n",
        "model = YOLO('yolov8n.pt')\n",
        "\n",
        "# Тренировка модели\n",
        "model.train(data='/content/Russian-License-Plates-Detector-3/data.yaml', epochs=100, imgsz=640, batch=16)\n"
      ]
    },
    {
      "cell_type": "code",
      "execution_count": null,
      "metadata": {
        "colab": {
          "base_uri": "https://localhost:8080/",
          "height": 321
        },
        "id": "_3jpHpK2Z-gs",
        "outputId": "e4ab7aba-b1aa-4881-d99c-504c8f7c4588"
      },
      "outputs": [],
      "source": [
        "from google.colab import drive\n",
        "\n",
        "# Монтирование Google диска для экспорта результатов тренировки\n",
        "drive.mount('/content/drive')"
      ]
    },
    {
      "cell_type": "code",
      "execution_count": null,
      "metadata": {
        "colab": {
          "base_uri": "https://localhost:8080/",
          "height": 35
        },
        "id": "4lyd1Xjnaa8z",
        "outputId": "5b20864d-c95c-4266-f129-9daaf3ae3996"
      },
      "outputs": [],
      "source": [
        "import shutil\n",
        "\n",
        "# Путь к директории с результатами тренировки для экспортирования\n",
        "source_dir = '/content/runs/detect/train7'\n",
        "# Путь к директории на Google диске\n",
        "destination_dir = '/content/drive/MyDrive/train_results'\n",
        "\n",
        "# Копирование директории\n",
        "shutil.copytree(source_dir, destination_dir)"
      ]
    }
  ],
  "metadata": {
    "accelerator": "GPU",
    "colab": {
      "gpuType": "T4",
      "provenance": []
    },
    "kernelspec": {
      "display_name": "Python 3",
      "name": "python3"
    },
    "language_info": {
      "name": "python"
    }
  },
  "nbformat": 4,
  "nbformat_minor": 0
}
